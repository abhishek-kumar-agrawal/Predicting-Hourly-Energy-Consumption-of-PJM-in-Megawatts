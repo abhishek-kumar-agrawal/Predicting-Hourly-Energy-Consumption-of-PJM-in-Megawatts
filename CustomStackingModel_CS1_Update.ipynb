{
 "cells": [
  {
   "cell_type": "markdown",
   "metadata": {
    "id": "UqPnFzivBUfz"
   },
   "source": [
    "# Custom Stacking Regressor Model\n",
    "\n",
    "#### Steps involved for building custom stacking regressor model:\n",
    "\n",
    "a) Split my whole data obtained from feature engineering into train and test(80-20)<br>\n",
    "\n",
    "b) Now, in the 80% train set, we split the train set into D1 and D2.(50-50).<br>\n",
    "\n",
    "From this D1, we do sampling with replacement to create d1,d2,d3....dk(k samples).<br>\n",
    "\n",
    "Now will create 'k' models and train each of these models with the samples. Each model will be trained on only one sample. These models are called base models. We can select the best models and its hyperparameters based on the previous findings. we will make sure that ‘k’ can be passed as an argument. \n",
    "<br>\n",
    "c) Now we pass the D2 set to each of these k models; now, we will get k predictions for D2 from each of these models.<br>\n",
    "\n",
    "d) Now, using these k predictions, we create a new dataset, for D2, we already know it's corresponding target values, so now we train a metamodel with these k predictions.<br>\n",
    "\n",
    "e) Now, for model evaluation, we use the 20% data that we have kept as the test set. Pass that test set to each of the base models, and we will get 'k' predictions. Now we create a new dataset with these k predictions and pass it to our metamodel, and we will get the final prediction. Using this final prediction and the targets for the test set, we can calculate the model's performance score.\n",
    "<br>\n"
   ]
  },
  {
   "cell_type": "markdown",
   "metadata": {
    "id": "0Z1Y_o4oBuwF"
   },
   "source": [
    "## Importing Libraries"
   ]
  },
  {
   "cell_type": "code",
   "execution_count": 1,
   "metadata": {
    "colab": {
     "base_uri": "https://localhost:8080/"
    },
    "id": "SUCOAFX7Bu2J",
    "outputId": "fd125343-76f5-4abc-9005-23b976767b8f"
   },
   "outputs": [
    {
     "name": "stdout",
     "output_type": "stream",
     "text": [
      "Mounted at /content/drive\n"
     ]
    }
   ],
   "source": [
    "from google.colab import drive\n",
    "drive.mount('/content/drive')"
   ]
  },
  {
   "cell_type": "code",
   "execution_count": 2,
   "metadata": {
    "id": "_CzdlNezBu66"
   },
   "outputs": [],
   "source": [
    "import pandas as pd\n",
    "import seaborn as sns\n",
    "import matplotlib.pyplot as plt\n",
    "import numpy as np\n",
    "import random\n",
    "from tabulate import tabulate\n",
    "import warnings\n",
    "warnings.filterwarnings(\"ignore\")\n",
    "from joblib import dump, load\n",
    "from sklearn.ensemble import RandomForestRegressor\n",
    "from statsmodels.tsa.api import SimpleExpSmoothing,Holt,ExponentialSmoothing\n",
    "from sklearn.preprocessing import MinMaxScaler\n",
    "import matplotlib as mpl\n",
    "import matplotlib.pyplot as plt\n",
    "from sklearn.dummy import DummyRegressor\n",
    "from sklearn.model_selection import TimeSeriesSplit\n",
    "from math import sqrt\n",
    "from sklearn.metrics import mean_squared_error,mean_absolute_error\n",
    "import sklearn.metrics as metrics\n",
    "from sklearn.svm import SVR\n",
    "from sklearn.ensemble import RandomForestRegressor\n",
    "from sklearn.tree import DecisionTreeRegressor\n",
    "from sklearn.neighbors import KNeighborsRegressor\n",
    "from sklearn.linear_model import LogisticRegression\n",
    "import lightgbm\n",
    "from sklearn.model_selection import RepeatedStratifiedKFold\n",
    "from sklearn.model_selection import GridSearchCV\n",
    "from sklearn.model_selection import train_test_split\n",
    "import xgboost as xgb\n",
    "from tqdm import tqdm\n",
    "from sklearn.linear_model import SGDRegressor\n",
    "from xgboost import XGBRegressor\n",
    "import tensorflow as tf\n",
    "from tensorflow.keras.preprocessing.sequence import pad_sequences\n",
    "from tensorflow.keras.layers import Dense,Input,Activation,Embedding,LSTM,Concatenate,Flatten,Dropout,Bidirectional\n",
    "from tensorflow.keras.models import Model,load_model\n",
    "from tensorflow.keras.optimizers import Adam,RMSprop,Nadam,SGD\n",
    "from keras.callbacks import ModelCheckpoint\n",
    "from tensorflow.keras.callbacks import EarlyStopping\n",
    "from tensorflow.keras.callbacks import LearningRateScheduler\n",
    "from tensorflow.keras.callbacks import ReduceLROnPlateau\n",
    "from tensorflow.keras.utils import plot_model\n",
    "from tensorflow.keras import callbacks,Sequential\n",
    "from statsmodels.tsa.arima_model import ARIMA,ARMA\n",
    "from statsmodels.tsa.statespace.sarimax import SARIMAX\n",
    "import tensorflow as tf\n",
    "from datetime import datetime\n",
    "from prettytable import PrettyTable\n",
    "from tensorflow.keras import backend as K\n",
    "import shutil,os\n",
    "import pickle"
   ]
  },
  {
   "cell_type": "markdown",
   "metadata": {
    "id": "vKt1mqhuBu-x"
   },
   "source": [
    "## Importing Datasets"
   ]
  },
  {
   "cell_type": "code",
   "execution_count": 3,
   "metadata": {
    "colab": {
     "base_uri": "https://localhost:8080/",
     "height": 238
    },
    "id": "PTB_4qBSBvCq",
    "outputId": "d4cdf3aa-5796-41be-d528-ceb6501dcec6"
   },
   "outputs": [
    {
     "data": {
      "text/html": [
       "\n",
       "  <div id=\"df-2801f518-c99d-4103-a7b5-9030975a43b1\">\n",
       "    <div class=\"colab-df-container\">\n",
       "      <div>\n",
       "<style scoped>\n",
       "    .dataframe tbody tr th:only-of-type {\n",
       "        vertical-align: middle;\n",
       "    }\n",
       "\n",
       "    .dataframe tbody tr th {\n",
       "        vertical-align: top;\n",
       "    }\n",
       "\n",
       "    .dataframe thead th {\n",
       "        text-align: right;\n",
       "    }\n",
       "</style>\n",
       "<table border=\"1\" class=\"dataframe\">\n",
       "  <thead>\n",
       "    <tr style=\"text-align: right;\">\n",
       "      <th></th>\n",
       "      <th>PJME_MW</th>\n",
       "      <th>lag_feature1</th>\n",
       "      <th>hour_cos_feature</th>\n",
       "      <th>lag_feature2</th>\n",
       "      <th>hour_sin_feature</th>\n",
       "      <th>rolling_day_mean</th>\n",
       "    </tr>\n",
       "    <tr>\n",
       "      <th>Datetime</th>\n",
       "      <th></th>\n",
       "      <th></th>\n",
       "      <th></th>\n",
       "      <th></th>\n",
       "      <th></th>\n",
       "      <th></th>\n",
       "    </tr>\n",
       "  </thead>\n",
       "  <tbody>\n",
       "    <tr>\n",
       "      <th>2002-01-08 03:00:00</th>\n",
       "      <td>28375.0</td>\n",
       "      <td>0.297609</td>\n",
       "      <td>7.071068e-01</td>\n",
       "      <td>0.313937</td>\n",
       "      <td>0.707107</td>\n",
       "      <td>0.429240</td>\n",
       "    </tr>\n",
       "    <tr>\n",
       "      <th>2002-01-08 04:00:00</th>\n",
       "      <td>28542.0</td>\n",
       "      <td>0.291394</td>\n",
       "      <td>5.000000e-01</td>\n",
       "      <td>0.297609</td>\n",
       "      <td>0.866025</td>\n",
       "      <td>0.432506</td>\n",
       "    </tr>\n",
       "    <tr>\n",
       "      <th>2002-01-08 05:00:00</th>\n",
       "      <td>29261.0</td>\n",
       "      <td>0.294912</td>\n",
       "      <td>2.588190e-01</td>\n",
       "      <td>0.291394</td>\n",
       "      <td>0.965926</td>\n",
       "      <td>0.435912</td>\n",
       "    </tr>\n",
       "    <tr>\n",
       "      <th>2002-01-08 06:00:00</th>\n",
       "      <td>31348.0</td>\n",
       "      <td>0.310060</td>\n",
       "      <td>6.123234e-17</td>\n",
       "      <td>0.294912</td>\n",
       "      <td>1.000000</td>\n",
       "      <td>0.439369</td>\n",
       "    </tr>\n",
       "    <tr>\n",
       "      <th>2002-01-08 07:00:00</th>\n",
       "      <td>35335.0</td>\n",
       "      <td>0.354029</td>\n",
       "      <td>-2.588190e-01</td>\n",
       "      <td>0.310060</td>\n",
       "      <td>0.965926</td>\n",
       "      <td>0.443005</td>\n",
       "    </tr>\n",
       "  </tbody>\n",
       "</table>\n",
       "</div>\n",
       "      <button class=\"colab-df-convert\" onclick=\"convertToInteractive('df-2801f518-c99d-4103-a7b5-9030975a43b1')\"\n",
       "              title=\"Convert this dataframe to an interactive table.\"\n",
       "              style=\"display:none;\">\n",
       "        \n",
       "  <svg xmlns=\"http://www.w3.org/2000/svg\" height=\"24px\"viewBox=\"0 0 24 24\"\n",
       "       width=\"24px\">\n",
       "    <path d=\"M0 0h24v24H0V0z\" fill=\"none\"/>\n",
       "    <path d=\"M18.56 5.44l.94 2.06.94-2.06 2.06-.94-2.06-.94-.94-2.06-.94 2.06-2.06.94zm-11 1L8.5 8.5l.94-2.06 2.06-.94-2.06-.94L8.5 2.5l-.94 2.06-2.06.94zm10 10l.94 2.06.94-2.06 2.06-.94-2.06-.94-.94-2.06-.94 2.06-2.06.94z\"/><path d=\"M17.41 7.96l-1.37-1.37c-.4-.4-.92-.59-1.43-.59-.52 0-1.04.2-1.43.59L10.3 9.45l-7.72 7.72c-.78.78-.78 2.05 0 2.83L4 21.41c.39.39.9.59 1.41.59.51 0 1.02-.2 1.41-.59l7.78-7.78 2.81-2.81c.8-.78.8-2.07 0-2.86zM5.41 20L4 18.59l7.72-7.72 1.47 1.35L5.41 20z\"/>\n",
       "  </svg>\n",
       "      </button>\n",
       "      \n",
       "  <style>\n",
       "    .colab-df-container {\n",
       "      display:flex;\n",
       "      flex-wrap:wrap;\n",
       "      gap: 12px;\n",
       "    }\n",
       "\n",
       "    .colab-df-convert {\n",
       "      background-color: #E8F0FE;\n",
       "      border: none;\n",
       "      border-radius: 50%;\n",
       "      cursor: pointer;\n",
       "      display: none;\n",
       "      fill: #1967D2;\n",
       "      height: 32px;\n",
       "      padding: 0 0 0 0;\n",
       "      width: 32px;\n",
       "    }\n",
       "\n",
       "    .colab-df-convert:hover {\n",
       "      background-color: #E2EBFA;\n",
       "      box-shadow: 0px 1px 2px rgba(60, 64, 67, 0.3), 0px 1px 3px 1px rgba(60, 64, 67, 0.15);\n",
       "      fill: #174EA6;\n",
       "    }\n",
       "\n",
       "    [theme=dark] .colab-df-convert {\n",
       "      background-color: #3B4455;\n",
       "      fill: #D2E3FC;\n",
       "    }\n",
       "\n",
       "    [theme=dark] .colab-df-convert:hover {\n",
       "      background-color: #434B5C;\n",
       "      box-shadow: 0px 1px 3px 1px rgba(0, 0, 0, 0.15);\n",
       "      filter: drop-shadow(0px 1px 2px rgba(0, 0, 0, 0.3));\n",
       "      fill: #FFFFFF;\n",
       "    }\n",
       "  </style>\n",
       "\n",
       "      <script>\n",
       "        const buttonEl =\n",
       "          document.querySelector('#df-2801f518-c99d-4103-a7b5-9030975a43b1 button.colab-df-convert');\n",
       "        buttonEl.style.display =\n",
       "          google.colab.kernel.accessAllowed ? 'block' : 'none';\n",
       "\n",
       "        async function convertToInteractive(key) {\n",
       "          const element = document.querySelector('#df-2801f518-c99d-4103-a7b5-9030975a43b1');\n",
       "          const dataTable =\n",
       "            await google.colab.kernel.invokeFunction('convertToInteractive',\n",
       "                                                     [key], {});\n",
       "          if (!dataTable) return;\n",
       "\n",
       "          const docLinkHtml = 'Like what you see? Visit the ' +\n",
       "            '<a target=\"_blank\" href=https://colab.research.google.com/notebooks/data_table.ipynb>data table notebook</a>'\n",
       "            + ' to learn more about interactive tables.';\n",
       "          element.innerHTML = '';\n",
       "          dataTable['output_type'] = 'display_data';\n",
       "          await google.colab.output.renderOutput(dataTable, element);\n",
       "          const docLink = document.createElement('div');\n",
       "          docLink.innerHTML = docLinkHtml;\n",
       "          element.appendChild(docLink);\n",
       "        }\n",
       "      </script>\n",
       "    </div>\n",
       "  </div>\n",
       "  "
      ],
      "text/plain": [
       "                     PJME_MW  lag_feature1  ...  hour_sin_feature  rolling_day_mean\n",
       "Datetime                                    ...                                    \n",
       "2002-01-08 03:00:00  28375.0      0.297609  ...          0.707107          0.429240\n",
       "2002-01-08 04:00:00  28542.0      0.291394  ...          0.866025          0.432506\n",
       "2002-01-08 05:00:00  29261.0      0.294912  ...          0.965926          0.435912\n",
       "2002-01-08 06:00:00  31348.0      0.310060  ...          1.000000          0.439369\n",
       "2002-01-08 07:00:00  35335.0      0.354029  ...          0.965926          0.443005\n",
       "\n",
       "[5 rows x 6 columns]"
      ]
     },
     "execution_count": 3,
     "metadata": {},
     "output_type": "execute_result"
    }
   ],
   "source": [
    "#pjm_final = pd.read_pickle(\"final_pjm_data.pkl\")\n",
    "pjm_final = pd.read_pickle(\"/content/drive/MyDrive/Case Study 1/final_pjm_stationary.pkl\")\n",
    "pjm_final['PJME_MW'] = np.expm1(pjm_final['PJME_MW'])\n",
    "pjm_final.head()"
   ]
  },
  {
   "cell_type": "code",
   "execution_count": 4,
   "metadata": {
    "id": "NShwKb79BvG0"
   },
   "outputs": [],
   "source": [
    "def performance_metrics(y_actual,y_predict):\n",
    "    #y_actual = np.expm1(np.array(y_actual))\n",
    "    #y_predict = np.expm1(np.array(y_predict))\n",
    "    mape = np.mean(np.abs((y_actual-y_predict)/y_actual))*100\n",
    "    mae = mean_absolute_error(y_actual,y_predict)\n",
    "    mse = mean_squared_error(y_actual,y_predict)\n",
    "    rmse = sqrt(mean_squared_error(y_actual,y_predict))\n",
    "    return rmse,mae,mape,mse"
   ]
  },
  {
   "cell_type": "code",
   "execution_count": 5,
   "metadata": {
    "id": "RLTuogKEBvKi"
   },
   "outputs": [],
   "source": [
    "def result_visualization(y,y_hat,title=None):\n",
    "    #y = np.expm1(np.array(y))\n",
    "    #y_hat = np.expm1(np.array(y_hat))\n",
    "    plt.figure(figsize=(23,5))\n",
    "    plt.plot(y,label='true')\n",
    "    plt.plot(y_hat,label='predicted')\n",
    "    #plt.xlim(dt(2016, 1, 1),dt(2018, 12, 31))\n",
    "    plt.legend()\n",
    "    plt.grid()\n",
    "    plt.title(title)\n",
    "    \n",
    "    plt.show()"
   ]
  },
  {
   "cell_type": "code",
   "execution_count": 6,
   "metadata": {
    "colab": {
     "base_uri": "https://localhost:8080/",
     "height": 206
    },
    "id": "qwO3m5uuBvOm",
    "outputId": "be644547-45d1-4ee9-cf1e-0be527b7de60"
   },
   "outputs": [
    {
     "data": {
      "text/html": [
       "\n",
       "  <div id=\"df-74fde074-42fb-4ca8-9ff9-488b359b0b05\">\n",
       "    <div class=\"colab-df-container\">\n",
       "      <div>\n",
       "<style scoped>\n",
       "    .dataframe tbody tr th:only-of-type {\n",
       "        vertical-align: middle;\n",
       "    }\n",
       "\n",
       "    .dataframe tbody tr th {\n",
       "        vertical-align: top;\n",
       "    }\n",
       "\n",
       "    .dataframe thead th {\n",
       "        text-align: right;\n",
       "    }\n",
       "</style>\n",
       "<table border=\"1\" class=\"dataframe\">\n",
       "  <thead>\n",
       "    <tr style=\"text-align: right;\">\n",
       "      <th></th>\n",
       "      <th>PJME_MW</th>\n",
       "      <th>lag_feature1</th>\n",
       "      <th>hour_cos_feature</th>\n",
       "      <th>lag_feature2</th>\n",
       "      <th>hour_sin_feature</th>\n",
       "      <th>rolling_day_mean</th>\n",
       "    </tr>\n",
       "  </thead>\n",
       "  <tbody>\n",
       "    <tr>\n",
       "      <th>0</th>\n",
       "      <td>28375.0</td>\n",
       "      <td>0.297609</td>\n",
       "      <td>7.071068e-01</td>\n",
       "      <td>0.313937</td>\n",
       "      <td>0.707107</td>\n",
       "      <td>0.429240</td>\n",
       "    </tr>\n",
       "    <tr>\n",
       "      <th>1</th>\n",
       "      <td>28542.0</td>\n",
       "      <td>0.291394</td>\n",
       "      <td>5.000000e-01</td>\n",
       "      <td>0.297609</td>\n",
       "      <td>0.866025</td>\n",
       "      <td>0.432506</td>\n",
       "    </tr>\n",
       "    <tr>\n",
       "      <th>2</th>\n",
       "      <td>29261.0</td>\n",
       "      <td>0.294912</td>\n",
       "      <td>2.588190e-01</td>\n",
       "      <td>0.291394</td>\n",
       "      <td>0.965926</td>\n",
       "      <td>0.435912</td>\n",
       "    </tr>\n",
       "    <tr>\n",
       "      <th>3</th>\n",
       "      <td>31348.0</td>\n",
       "      <td>0.310060</td>\n",
       "      <td>6.123234e-17</td>\n",
       "      <td>0.294912</td>\n",
       "      <td>1.000000</td>\n",
       "      <td>0.439369</td>\n",
       "    </tr>\n",
       "    <tr>\n",
       "      <th>4</th>\n",
       "      <td>35335.0</td>\n",
       "      <td>0.354029</td>\n",
       "      <td>-2.588190e-01</td>\n",
       "      <td>0.310060</td>\n",
       "      <td>0.965926</td>\n",
       "      <td>0.443005</td>\n",
       "    </tr>\n",
       "  </tbody>\n",
       "</table>\n",
       "</div>\n",
       "      <button class=\"colab-df-convert\" onclick=\"convertToInteractive('df-74fde074-42fb-4ca8-9ff9-488b359b0b05')\"\n",
       "              title=\"Convert this dataframe to an interactive table.\"\n",
       "              style=\"display:none;\">\n",
       "        \n",
       "  <svg xmlns=\"http://www.w3.org/2000/svg\" height=\"24px\"viewBox=\"0 0 24 24\"\n",
       "       width=\"24px\">\n",
       "    <path d=\"M0 0h24v24H0V0z\" fill=\"none\"/>\n",
       "    <path d=\"M18.56 5.44l.94 2.06.94-2.06 2.06-.94-2.06-.94-.94-2.06-.94 2.06-2.06.94zm-11 1L8.5 8.5l.94-2.06 2.06-.94-2.06-.94L8.5 2.5l-.94 2.06-2.06.94zm10 10l.94 2.06.94-2.06 2.06-.94-2.06-.94-.94-2.06-.94 2.06-2.06.94z\"/><path d=\"M17.41 7.96l-1.37-1.37c-.4-.4-.92-.59-1.43-.59-.52 0-1.04.2-1.43.59L10.3 9.45l-7.72 7.72c-.78.78-.78 2.05 0 2.83L4 21.41c.39.39.9.59 1.41.59.51 0 1.02-.2 1.41-.59l7.78-7.78 2.81-2.81c.8-.78.8-2.07 0-2.86zM5.41 20L4 18.59l7.72-7.72 1.47 1.35L5.41 20z\"/>\n",
       "  </svg>\n",
       "      </button>\n",
       "      \n",
       "  <style>\n",
       "    .colab-df-container {\n",
       "      display:flex;\n",
       "      flex-wrap:wrap;\n",
       "      gap: 12px;\n",
       "    }\n",
       "\n",
       "    .colab-df-convert {\n",
       "      background-color: #E8F0FE;\n",
       "      border: none;\n",
       "      border-radius: 50%;\n",
       "      cursor: pointer;\n",
       "      display: none;\n",
       "      fill: #1967D2;\n",
       "      height: 32px;\n",
       "      padding: 0 0 0 0;\n",
       "      width: 32px;\n",
       "    }\n",
       "\n",
       "    .colab-df-convert:hover {\n",
       "      background-color: #E2EBFA;\n",
       "      box-shadow: 0px 1px 2px rgba(60, 64, 67, 0.3), 0px 1px 3px 1px rgba(60, 64, 67, 0.15);\n",
       "      fill: #174EA6;\n",
       "    }\n",
       "\n",
       "    [theme=dark] .colab-df-convert {\n",
       "      background-color: #3B4455;\n",
       "      fill: #D2E3FC;\n",
       "    }\n",
       "\n",
       "    [theme=dark] .colab-df-convert:hover {\n",
       "      background-color: #434B5C;\n",
       "      box-shadow: 0px 1px 3px 1px rgba(0, 0, 0, 0.15);\n",
       "      filter: drop-shadow(0px 1px 2px rgba(0, 0, 0, 0.3));\n",
       "      fill: #FFFFFF;\n",
       "    }\n",
       "  </style>\n",
       "\n",
       "      <script>\n",
       "        const buttonEl =\n",
       "          document.querySelector('#df-74fde074-42fb-4ca8-9ff9-488b359b0b05 button.colab-df-convert');\n",
       "        buttonEl.style.display =\n",
       "          google.colab.kernel.accessAllowed ? 'block' : 'none';\n",
       "\n",
       "        async function convertToInteractive(key) {\n",
       "          const element = document.querySelector('#df-74fde074-42fb-4ca8-9ff9-488b359b0b05');\n",
       "          const dataTable =\n",
       "            await google.colab.kernel.invokeFunction('convertToInteractive',\n",
       "                                                     [key], {});\n",
       "          if (!dataTable) return;\n",
       "\n",
       "          const docLinkHtml = 'Like what you see? Visit the ' +\n",
       "            '<a target=\"_blank\" href=https://colab.research.google.com/notebooks/data_table.ipynb>data table notebook</a>'\n",
       "            + ' to learn more about interactive tables.';\n",
       "          element.innerHTML = '';\n",
       "          dataTable['output_type'] = 'display_data';\n",
       "          await google.colab.output.renderOutput(dataTable, element);\n",
       "          const docLink = document.createElement('div');\n",
       "          docLink.innerHTML = docLinkHtml;\n",
       "          element.appendChild(docLink);\n",
       "        }\n",
       "      </script>\n",
       "    </div>\n",
       "  </div>\n",
       "  "
      ],
      "text/plain": [
       "   PJME_MW  lag_feature1  ...  hour_sin_feature  rolling_day_mean\n",
       "0  28375.0      0.297609  ...          0.707107          0.429240\n",
       "1  28542.0      0.291394  ...          0.866025          0.432506\n",
       "2  29261.0      0.294912  ...          0.965926          0.435912\n",
       "3  31348.0      0.310060  ...          1.000000          0.439369\n",
       "4  35335.0      0.354029  ...          0.965926          0.443005\n",
       "\n",
       "[5 rows x 6 columns]"
      ]
     },
     "execution_count": 6,
     "metadata": {},
     "output_type": "execute_result"
    }
   ],
   "source": [
    "pjm_df_copy = pjm_final.copy()\n",
    "pjm_df_copy = pjm_df_copy.reset_index()\n",
    "pjm_df_copy = pjm_df_copy.drop('Datetime',axis=1)\n",
    "pjm_df_copy.head()"
   ]
  },
  {
   "cell_type": "code",
   "execution_count": null,
   "metadata": {
    "colab": {
     "base_uri": "https://localhost:8080/"
    },
    "id": "QeWO_Rf4xg5X",
    "outputId": "7a2f8718-955a-49da-bb63-669819094e99"
   },
   "outputs": [
    {
     "data": {
      "text/plain": [
       "(145132, 6)"
      ]
     },
     "execution_count": 7,
     "metadata": {},
     "output_type": "execute_result"
    }
   ],
   "source": [
    "pjm_df_copy.shape"
   ]
  },
  {
   "cell_type": "code",
   "execution_count": 7,
   "metadata": {
    "id": "OB5rQojkBvSj"
   },
   "outputs": [],
   "source": [
    "X = pjm_df_copy.drop('PJME_MW',axis=1).values\n",
    "y = pjm_df_copy['PJME_MW'].values"
   ]
  },
  {
   "cell_type": "markdown",
   "metadata": {
    "id": "e-tPkp8JBvWr"
   },
   "source": [
    "## Dividing data into train test (80:20)"
   ]
  },
  {
   "cell_type": "code",
   "execution_count": 8,
   "metadata": {
    "colab": {
     "base_uri": "https://localhost:8080/"
    },
    "id": "gRrLFDkTBvaq",
    "outputId": "344dc02d-fcc3-4b31-c8f0-280e9b25805f"
   },
   "outputs": [
    {
     "name": "stdout",
     "output_type": "stream",
     "text": [
      "<class 'numpy.ndarray'>\n",
      "<class 'numpy.ndarray'>\n",
      "<class 'numpy.ndarray'>\n",
      "<class 'numpy.ndarray'>\n",
      "X_train shape : (116106, 5)\n",
      "X_test shape : (29026, 5)\n",
      "y_train shape : (116106,)\n",
      "y_test shape : (29026,)\n"
     ]
    }
   ],
   "source": [
    "test_size_ml =29026\n",
    "X_train = X[:-test_size_ml]\n",
    "X_test = X[-test_size_ml:]\n",
    "y_train = y[:-test_size_ml]\n",
    "y_test = y[-test_size_ml:]\n",
    "print(type(X_train))\n",
    "print(type(X_test))\n",
    "print(type(y_train))\n",
    "print(type(y_test))\n",
    "print('X_train shape :',X_train.shape)\n",
    "print('X_test shape :',X_test.shape)\n",
    "print('y_train shape :',y_train.shape)\n",
    "print('y_test shape :',y_test.shape)"
   ]
  },
  {
   "cell_type": "markdown",
   "metadata": {
    "id": "DZGsQKUVBves"
   },
   "source": [
    "## Splitting training data (50:50)"
   ]
  },
  {
   "cell_type": "code",
   "execution_count": 9,
   "metadata": {
    "colab": {
     "base_uri": "https://localhost:8080/"
    },
    "id": "sOj_a5u1Bvik",
    "outputId": "aeedaa0a-9e31-4a54-c0c7-5cf49b74a528"
   },
   "outputs": [
    {
     "name": "stdout",
     "output_type": "stream",
     "text": [
      "train_1 shape : (58053, 5)\n",
      "train_2 shape : (58053, 5)\n",
      "y_1 shape : (58053,)\n",
      "y_2 shape : (58053,)\n",
      "<class 'numpy.ndarray'>\n",
      "<class 'numpy.ndarray'>\n",
      "<class 'numpy.ndarray'>\n",
      "<class 'numpy.ndarray'>\n"
     ]
    }
   ],
   "source": [
    "train_1,train_2 = X_train[:58053],X_train[58053:]\n",
    "y_1,y_2 = y_train[:58053],y_train[58053:]\n",
    "\n",
    "print('train_1 shape :',train_1.shape)\n",
    "print('train_2 shape :',train_2.shape)\n",
    "print('y_1 shape :',y_1.shape)\n",
    "print('y_2 shape :',y_2.shape)\n",
    "print(type(train_1))\n",
    "print(type(train_2))\n",
    "print(type(y_1))\n",
    "print(type(y_2))"
   ]
  },
  {
   "cell_type": "markdown",
   "metadata": {
    "id": "Q6F83UQKBvm0"
   },
   "source": [
    "## Building K Models"
   ]
  },
  {
   "cell_type": "code",
   "execution_count": 18,
   "metadata": {
    "id": "aKgew9yMBvqd"
   },
   "outputs": [],
   "source": [
    "#https://stackoverflow.com/questions/14262654/numpy-get-random-set-of-rows-from-2d-array\n",
    "def create_k_model(train_x,train_y,k,size):\n",
    "    '''\n",
    "    With this function we do sampling with replacement to create d1,d2,d3....dk(k samples)\n",
    "    and then fits k different models'''\n",
    "    k_models = []\n",
    "    for x in range(k):\n",
    "        sample = np.random.choice(len(train_x),size,replace=True)\n",
    "        #sample = train_x.sample(frac=0.75,replace=True,random_state=None)\n",
    "        #new_y = sample['PJME_MW']\n",
    "        #new_x = sample.drop('PJME_MW',axis=1,inplace=True)\n",
    "        new_x = train_x[sample]\n",
    "        new_y = train_y[sample]\n",
    "        rf_reg = RandomForestRegressor(n_estimators=1250,n_jobs=-1,bootstrap=True,max_depth=50,max_features='auto',\n",
    "                           verbose=0,random_state=1)\n",
    "        rf_reg.fit(new_x,new_y)\n",
    "        k_models.append(rf_reg)\n",
    "    return k_models\n",
    "        "
   ]
  },
  {
   "cell_type": "markdown",
   "metadata": {
    "id": "uagjUoWoBvud"
   },
   "source": [
    "## Stacked Regressor on metadata with K Predictions"
   ]
  },
  {
   "cell_type": "code",
   "execution_count": 11,
   "metadata": {
    "id": "x5KrK_zXBvy0"
   },
   "outputs": [],
   "source": [
    "import contextlib\n",
    "import io\n",
    "import sys\n",
    "\n",
    "@contextlib.contextmanager\n",
    "def create_new_data(data,model):\n",
    "    '''\n",
    "    With this function using these k predictions, we create a new dataset, for D2,for which\n",
    "    we already know it's corresponding target values\n",
    "    '''\n",
    "    new_data =[]\n",
    "    for i in model:\n",
    "        k_predict = i.predict(data)\n",
    "        new_data.append(k_predict)\n",
    "    new_data = np.array(new_data).T\n",
    "    return new_data"
   ]
  },
  {
   "cell_type": "markdown",
   "metadata": {
    "id": "XKBD8CngBv3D"
   },
   "source": [
    "## 1.SVR as stack Regressor"
   ]
  },
  {
   "cell_type": "code",
   "execution_count": 12,
   "metadata": {
    "id": "kHihDfwxFxPc"
   },
   "outputs": [],
   "source": [
    "k_list = [20,50,100,150,200]\n",
    "size = 5"
   ]
  },
  {
   "cell_type": "code",
   "execution_count": null,
   "metadata": {
    "id": "dNPPlYHiBv7U"
   },
   "outputs": [],
   "source": [
    "%%capture\n",
    "# hypertuning k using svr as stack regressor\n",
    "\n",
    "rmse_svr_score = []\n",
    "svr_reg_model = []\n",
    "\n",
    "for k in k_list:\n",
    "    model = create_k_model(train_1,y_1,k,size)\n",
    "    x_metadata = create_new_data(train_2,model)\n",
    "    y_metadata = y_2\n",
    "    \n",
    "    parameters = {'C':[100,250,500,1000,5000],\n",
    "             'gamma':['auto','scale'],\n",
    "             'kernel':['rbf','linear','poly','sigmoid']}\n",
    "    svr_reg = GridSearchCV(SVR(), param_grid = parameters,scoring='neg_root_mean_squared_error', verbose=1,\n",
    "                      n_jobs=-1,cv=3)\n",
    "    svr_reg.fit(x_metadata,y_metadata)\n",
    "    rmse_svr_score.append(svr_reg.best_score_)\n",
    "    svr_reg_model.append(svr_reg.best_params_)\n",
    "    \n"
   ]
  },
  {
   "cell_type": "code",
   "execution_count": null,
   "metadata": {
    "colab": {
     "base_uri": "https://localhost:8080/"
    },
    "id": "WUkA4nPuBv_y",
    "outputId": "26fce021-1fbf-4bfa-c717-83bfe1a385da"
   },
   "outputs": [
    {
     "name": "stdout",
     "output_type": "stream",
     "text": [
      "\n",
      "\n",
      "Result for SVR as Stack Regressor\n",
      "For K : [20, 50, 100, 150, 200]\n",
      "RMSE Score : [-1014.0954142805813, -965.3086332827328, -796.1952838927492, -797.756196723704, -728.0834282698893]\n",
      "\n",
      "\n",
      "Best parameters :\n",
      " {'C': 5000, 'gamma': 'scale', 'kernel': 'rbf'}\n"
     ]
    }
   ],
   "source": [
    "print('\\n')\n",
    "print('Result for SVR as Stack Regressor')\n",
    "print('For K :',k_list)\n",
    "print('RMSE Score :',rmse_svr_score)\n",
    "print('\\n')\n",
    "best_svr_parameter = svr_reg_model[np.argmin(rmse_svr_score)]\n",
    "print('Best parameters :\\n',best_svr_parameter)"
   ]
  },
  {
   "cell_type": "code",
   "execution_count": null,
   "metadata": {
    "id": "9FUqhOwlBwED"
   },
   "outputs": [],
   "source": [
    "#svr_file = '/content/drive/MyDrive/Case Study 1/svr_rmse.pkl'\n",
    "#open_file = open(svr_file,'wb')\n",
    "#pickle.dump(rmse_svr_score,open_file)\n",
    "#open_file.close()"
   ]
  },
  {
   "cell_type": "code",
   "execution_count": null,
   "metadata": {
    "id": "hcvQ2RAcBwIN"
   },
   "outputs": [],
   "source": [
    "#svr_best = '/content/drive/MyDrive/Case Study 1/svr_best_parameter.pkl'\n",
    "#open_file = open(svr_best,'wb')\n",
    "#pickle.dump(best_svr_parameter,open_file)\n",
    "#open_file.close()"
   ]
  },
  {
   "cell_type": "code",
   "execution_count": null,
   "metadata": {
    "id": "WmUVbPG7BwMW"
   },
   "outputs": [],
   "source": [
    "#svr_file1 = '/content/drive/MyDrive/Case Study 1/svr_model.pkl'\n",
    "#open_file = open(svr_file1,'wb')\n",
    "#pickle.dump(svr_reg_model,open_file)\n",
    "#open_file.close()"
   ]
  },
  {
   "cell_type": "markdown",
   "metadata": {
    "id": "OZBedQiXBwQs"
   },
   "source": [
    "## 2.LightGBm as Stack Regressor"
   ]
  },
  {
   "cell_type": "code",
   "execution_count": null,
   "metadata": {
    "id": "MXTlCnjZBwU1"
   },
   "outputs": [],
   "source": [
    "%%capture\n",
    "# hypertuning k using svr as stack regressor\n",
    "\n",
    "rmse_lgbm_score = []\n",
    "lgbm_reg_model = []\n",
    "\n",
    "for k in k_list:\n",
    "    model = create_k_model(train_1,y_1,k,size)\n",
    "    x_metadata = create_new_data(train_2,model)\n",
    "    y_metadata = y_2\n",
    "    \n",
    "    parameters = {\"n_estimators\":[50,100,250,500,1000,1250],\n",
    "             \"max_depth\":[2,3,4,5,7,10],\n",
    "             \"learning_rate\":[0.1,0.01,0.001]}\n",
    "    lgbm_reg = GridSearchCV(lightgbm.LGBMRegressor(), param_grid = parameters,scoring='neg_root_mean_squared_error', verbose=1,\n",
    "                      n_jobs=-1,cv=3)\n",
    "    lgbm_reg.fit(x_metadata,y_metadata)\n",
    "    rmse_lgbm_score.append(lgbm_reg.best_score_)\n",
    "    lgbm_reg_model.append(lgbm_reg.best_params_)\n",
    "    \n"
   ]
  },
  {
   "cell_type": "code",
   "execution_count": null,
   "metadata": {
    "colab": {
     "base_uri": "https://localhost:8080/"
    },
    "id": "avGHk_NoBwYl",
    "outputId": "0e228b56-faca-4f10-f5f3-47d729e5bad1"
   },
   "outputs": [
    {
     "name": "stdout",
     "output_type": "stream",
     "text": [
      "\n",
      "\n",
      "Result for LightGBM as Stack Regressor\n",
      "For K : [20, 50, 100, 150, 200]\n",
      "RMSE Score : [-911.7632525011509, -571.3943456610784, -559.9530922297777, -503.3029539873266, -474.6180951156619]\n",
      "\n",
      "\n",
      "Best parameters :\n",
      " {'learning_rate': 0.1, 'max_depth': 10, 'n_estimators': 1250}\n"
     ]
    }
   ],
   "source": [
    "print('\\n')\n",
    "print('Result for LightGBM as Stack Regressor')\n",
    "print('For K :',k_list)\n",
    "print('RMSE Score :',rmse_lgbm_score)\n",
    "print('\\n')\n",
    "best_lgbm_parameter = lgbm_reg_model[np.argmin(rmse_lgbm_score)]\n",
    "print('Best parameters :\\n',best_lgbm_parameter)"
   ]
  },
  {
   "cell_type": "code",
   "execution_count": null,
   "metadata": {
    "id": "G_39b2VSBwcs"
   },
   "outputs": [],
   "source": [
    "lgbm_file = '/content/drive/MyDrive/Case Study 1/lgbm_rmse.pkl'\n",
    "open_file = open(lgbm_file,'wb')\n",
    "pickle.dump(rmse_lgbm_score,open_file)\n",
    "open_file.close()"
   ]
  },
  {
   "cell_type": "code",
   "execution_count": null,
   "metadata": {
    "id": "WFOzJrmzBwgk"
   },
   "outputs": [],
   "source": [
    "#lgbm_best = '/content/drive/MyDrive/Case Study 1/lgbm_best_parameter.pkl'\n",
    "#open_file = open(lgbm_best,'wb')\n",
    "#pickle.dump(best_lgbm_parameter,open_file)\n",
    "#open_file.close()"
   ]
  },
  {
   "cell_type": "code",
   "execution_count": null,
   "metadata": {
    "id": "AVxQCdIPBwkk"
   },
   "outputs": [],
   "source": [
    "#lgbm_file1 = '/content/drive/MyDrive/Case Study 1/lgbm_model.pkl'\n",
    "#open_file = open(lgbm_file1,'wb')\n",
    "#pickle.dump(lgbm_reg_model,open_file)\n",
    "#open_file.close()"
   ]
  },
  {
   "cell_type": "markdown",
   "metadata": {
    "id": "UtAHVqkIC407"
   },
   "source": [
    "## 3.SGD Regressor as Stack Regressor"
   ]
  },
  {
   "cell_type": "code",
   "execution_count": null,
   "metadata": {
    "id": "-o4d5ejfC45K"
   },
   "outputs": [],
   "source": [
    "%%capture\n",
    "# hypertuning k using svr as stack regressor\n",
    "\n",
    "rmse_sgd_score = []\n",
    "sgd_reg_model = []\n",
    "\n",
    "for k in k_list:\n",
    "    model = create_k_model(train_1,y_1,k,size)\n",
    "    x_metadata = create_new_data(train_2,model)\n",
    "    y_metadata = y_2\n",
    "    \n",
    "    parameters = {'alpha':[1e-5,1e-4,1e-3,1e-2,1e-1,1,10,100],\n",
    "             'max_iter':[100,250,500,1000,1250],\n",
    "             'penalty':['l1','l2','elasticnet'],\n",
    "             'loss':['squared_epsilon_insensitive','squared_loss','huber','epsilon_insensitive']}\n",
    "    sgd_reg = GridSearchCV(SGDRegressor(), param_grid = parameters,scoring='neg_root_mean_squared_error', verbose=1,\n",
    "                      n_jobs=-1,cv=3)\n",
    "    sgd_reg.fit(x_metadata,y_metadata)\n",
    "    rmse_sgd_score.append(sgd_reg.best_score_)\n",
    "    sgd_reg_model.append(sgd_reg.best_params_)\n",
    "    \n"
   ]
  },
  {
   "cell_type": "code",
   "execution_count": null,
   "metadata": {
    "colab": {
     "base_uri": "https://localhost:8080/"
    },
    "id": "z9lTrzGoC48z",
    "outputId": "ba54ceeb-dca5-4608-f6f8-2854337ee0a2"
   },
   "outputs": [
    {
     "name": "stdout",
     "output_type": "stream",
     "text": [
      "\n",
      "\n",
      "Result for SGD as Stack Regressor\n",
      "For K : [20, 50, 100, 150, 200]\n",
      "RMSE Score : [-12806.145782213476, -17760.999753142543, -6835.3119544736755, -15634.182175062757, -10076.272326719003]\n",
      "\n",
      "\n",
      "Best parameters :\n",
      " {'alpha': 100, 'loss': 'huber', 'max_iter': 500, 'penalty': 'l1'}\n"
     ]
    }
   ],
   "source": [
    "print('\\n')\n",
    "print('Result for SGD as Stack Regressor')\n",
    "print('For K :',k_list)\n",
    "print('RMSE Score :',rmse_sgd_score)\n",
    "print('\\n')\n",
    "best_sgd_parameter = sgd_reg_model[np.argmin(rmse_sgd_score)]\n",
    "print('Best parameters :\\n',best_sgd_parameter)"
   ]
  },
  {
   "cell_type": "code",
   "execution_count": null,
   "metadata": {
    "id": "nlqpshAoC5Aa"
   },
   "outputs": [],
   "source": [
    "#sgd_file = '/content/drive/MyDrive/Case Study 1/sgd_rmse.pkl'\n",
    "#open_file = open(sgd_file,'wb')\n",
    "#pickle.dump(rmse_sgd_score,open_file)\n",
    "#open_file.close()"
   ]
  },
  {
   "cell_type": "code",
   "execution_count": null,
   "metadata": {
    "id": "ev7Q2hojC5Dy"
   },
   "outputs": [],
   "source": [
    "#sgd_best = '/content/drive/MyDrive/Case Study 1/sgd_best_parameter.pkl'\n",
    "#open_file = open(sgd_best,'wb')\n",
    "#pickle.dump(best_sgd_parameter,open_file)\n",
    "#open_file.close()"
   ]
  },
  {
   "cell_type": "code",
   "execution_count": null,
   "metadata": {
    "id": "3kQJCFtbC5Hd"
   },
   "outputs": [],
   "source": [
    "#sgd_file1 = '/content/drive/MyDrive/Case Study 1/sgd_model.pkl'\n",
    "#open_file = open(sgd_file1,'wb')\n",
    "#pickle.dump(sgd_reg_model,open_file)\n",
    "#open_file.close()"
   ]
  },
  {
   "cell_type": "markdown",
   "metadata": {
    "id": "2qWB1_MgC5K9"
   },
   "source": [
    "## 4.Decision Tree as Stack Regressor"
   ]
  },
  {
   "cell_type": "code",
   "execution_count": null,
   "metadata": {
    "id": "sEf2o5ctC5Ot"
   },
   "outputs": [],
   "source": [
    "%%capture\n",
    "# hypertuning k using svr as stack regressor\n",
    "\n",
    "rmse_dt_score = []\n",
    "dt_reg_model = []\n",
    "\n",
    "for k in k_list:\n",
    "    model = create_k_model(train_1,y_1,k,size)\n",
    "    x_metadata = create_new_data(train_2,model)\n",
    "    y_metadata = y_2\n",
    "    \n",
    "    parameters = {'max_depth': [2, 5, 15, 25, 50, 75, 100],\n",
    "                  'min_samples_split': [2, 3, 5, 7, 10],\n",
    "                  'min_samples_leaf': [1, 3, 5],\n",
    "                  'max_features': ['auto', 'sqrt', 'log2']}\n",
    "    dt_reg = GridSearchCV(DecisionTreeRegressor(), param_grid = parameters,scoring='neg_root_mean_squared_error', verbose=1,\n",
    "                      n_jobs=-1,cv=3)\n",
    "    dt_reg.fit(x_metadata,y_metadata)\n",
    "    rmse_dt_score.append(dt_reg.best_score_)\n",
    "    dt_reg_model.append(dt_reg.best_params_)\n",
    "    \n"
   ]
  },
  {
   "cell_type": "code",
   "execution_count": null,
   "metadata": {
    "colab": {
     "base_uri": "https://localhost:8080/"
    },
    "id": "YFwQ1UTvC5SW",
    "outputId": "623ed988-2441-4c2e-d4e1-04fe8f09bbda"
   },
   "outputs": [
    {
     "name": "stdout",
     "output_type": "stream",
     "text": [
      "\n",
      "\n",
      "Result for Decision Tree as Stack Regressor\n",
      "For K : [20, 50, 100, 150, 200]\n",
      "RMSE Score : [-874.4240132913059, -789.8135301716344, -743.3699044725128, -722.497050687704, -711.8861714865948]\n",
      "\n",
      "\n",
      "Best parameters :\n",
      " {'max_depth': 25, 'max_features': 'auto', 'min_samples_leaf': 3, 'min_samples_split': 10}\n"
     ]
    }
   ],
   "source": [
    "print('\\n')\n",
    "print('Result for Decision Tree as Stack Regressor')\n",
    "print('For K :',k_list)\n",
    "print('RMSE Score :',rmse_dt_score)\n",
    "print('\\n')\n",
    "best_dt_parameter = dt_reg_model[np.argmin(rmse_dt_score)]\n",
    "print('Best parameters :\\n',best_dt_parameter)"
   ]
  },
  {
   "cell_type": "code",
   "execution_count": null,
   "metadata": {
    "id": "rCmk5dQuC5WM"
   },
   "outputs": [],
   "source": [
    "#dt_file = '/content/drive/MyDrive/Case Study 1/dt_rmse.pkl'\n",
    "#open_file = open(dt_file,'wb')\n",
    "#pickle.dump(rmse_dt_score,open_file)\n",
    "#open_file.close()"
   ]
  },
  {
   "cell_type": "code",
   "execution_count": null,
   "metadata": {
    "id": "6b0kD1hSC5aE"
   },
   "outputs": [],
   "source": [
    "#dt_best = '/content/drive/MyDrive/Case Study 1/dt_best_parameter.pkl'\n",
    "#open_file = open(dt_best,'wb')\n",
    "#pickle.dump(best_dt_parameter,open_file)\n",
    "#open_file.close()"
   ]
  },
  {
   "cell_type": "code",
   "execution_count": null,
   "metadata": {
    "id": "ZKasRtcjC5d1"
   },
   "outputs": [],
   "source": [
    "#dt_file1 = '/content/drive/MyDrive/Case Study 1/dt_model.pkl'\n",
    "#open_file = open(dt_file1,'wb')\n",
    "#pickle.dump(dt_reg_model,open_file)\n",
    "#open_file.close()"
   ]
  },
  {
   "cell_type": "markdown",
   "metadata": {
    "id": "NwV9gn_MC5ht"
   },
   "source": [
    "## 5.KNN as Stack Regressor"
   ]
  },
  {
   "cell_type": "code",
   "execution_count": null,
   "metadata": {
    "id": "Z7vPXkJPC5lL"
   },
   "outputs": [],
   "source": [
    "%%capture\n",
    "# hypertuning k using svr as stack regressor\n",
    "\n",
    "rmse_knn_score = []\n",
    "knn_reg_model = []\n",
    "\n",
    "for k in k_list:\n",
    "    model = create_k_model(train_1,y_1,k,size)\n",
    "    x_metadata = create_new_data(train_2,model)\n",
    "    y_metadata = y_2\n",
    "    \n",
    "    parameters = {'n_neighbors':[5,10,20,30,40,50],\n",
    "                  'weights':['uniform','distance']}\n",
    "    knn_reg = GridSearchCV(KNeighborsRegressor(), param_grid = parameters,scoring='neg_root_mean_squared_error', verbose=1,\n",
    "                      n_jobs=-1,cv=3)\n",
    "    knn_reg.fit(x_metadata,y_metadata)\n",
    "    rmse_knn_score.append(knn_reg.best_score_)\n",
    "    knn_reg_model.append(knn_reg.best_params_)\n",
    "    \n"
   ]
  },
  {
   "cell_type": "code",
   "execution_count": null,
   "metadata": {
    "colab": {
     "base_uri": "https://localhost:8080/"
    },
    "id": "qofZfnHuC5pX",
    "outputId": "5cf41026-bae0-4b15-aa38-a75fddf4ea66"
   },
   "outputs": [
    {
     "name": "stdout",
     "output_type": "stream",
     "text": [
      "\n",
      "\n",
      "Result for KNN as Stack Regressor\n",
      "For K : [20, 50, 100, 150, 200]\n",
      "RMSE Score : [-873.8411426641047, -754.9510017944834, -734.8032022319294, -714.9769001971896, -697.4154431227952]\n",
      "\n",
      "\n",
      "Best parameters :\n",
      " {'n_neighbors': 5, 'weights': 'distance'}\n"
     ]
    }
   ],
   "source": [
    "print('\\n')\n",
    "print('Result for KNN as Stack Regressor')\n",
    "print('For K :',k_list)\n",
    "print('RMSE Score :',rmse_knn_score)\n",
    "print('\\n')\n",
    "best_knn_parameter = knn_reg_model[np.argmin(rmse_knn_score)]\n",
    "print('Best parameters :\\n',best_knn_parameter)"
   ]
  },
  {
   "cell_type": "code",
   "execution_count": null,
   "metadata": {
    "id": "B8HSZ_hzC5tD"
   },
   "outputs": [],
   "source": [
    "#knn_file = '/content/drive/MyDrive/Case Study 1/knn_rmse.pkl'\n",
    "#open_file = open(knn_file,'wb')\n",
    "#pickle.dump(rmse_knn_score,open_file)\n",
    "#open_file.close()"
   ]
  },
  {
   "cell_type": "code",
   "execution_count": null,
   "metadata": {
    "id": "89ySZyi3C5w2"
   },
   "outputs": [],
   "source": [
    "#knn_best = '/content/drive/MyDrive/Case Study 1/knn_best_parameter.pkl'\n",
    "#open_file = open(knn_best,'wb')\n",
    "#pickle.dump(best_knn_parameter,open_file)\n",
    "#open_file.close()"
   ]
  },
  {
   "cell_type": "code",
   "execution_count": null,
   "metadata": {
    "id": "uiOSLaAzC50f"
   },
   "outputs": [],
   "source": [
    "#knn_file1 = '/content/drive/MyDrive/Case Study 1/knn_model.pkl'\n",
    "#open_file = open(knn_file1,'wb')\n",
    "#pickle.dump(knn_reg_model,open_file)\n",
    "#open_file.close()"
   ]
  },
  {
   "cell_type": "markdown",
   "metadata": {
    "id": "C2F6DWZVC54p"
   },
   "source": [
    "## Compairing Custom Models"
   ]
  },
  {
   "cell_type": "code",
   "execution_count": null,
   "metadata": {
    "colab": {
     "base_uri": "https://localhost:8080/"
    },
    "id": "tasqC0ipC58M",
    "outputId": "552ccaaf-988a-4bcf-c8c4-eff0283149c4"
   },
   "outputs": [
    {
     "name": "stdout",
     "output_type": "stream",
     "text": [
      "+--------------------+------------+------------+\n",
      "|     Model Name     | Value of k | RMSE Score |\n",
      "+--------------------+------------+------------+\n",
      "|      RF + SVR      |    200     |  728.083   |\n",
      "|   RF + LightGBM    |    200     |  474.618   |\n",
      "|      RF + SGD      |    100     |  6835.311  |\n",
      "| RF + Decision Tree |    200     |  711.866   |\n",
      "|      RF + KNN      |    200     |  697.415   |\n",
      "+--------------------+------------+------------+\n"
     ]
    }
   ],
   "source": [
    "from prettytable import PrettyTable\n",
    "table = PrettyTable()\n",
    "table.field_names= (\"Model Name\", \"Value of k\", \"RMSE Score\")\n",
    "table.add_row([\"RF + SVR\", 200, 728.083])\n",
    "table.add_row([\"RF + LightGBM\", 200, 474.618])\n",
    "table.add_row([\"RF + SGD\", 100, 6835.311])\n",
    "table.add_row([\"RF + Decision Tree\", 200, 711.866])\n",
    "table.add_row([\"RF + KNN\", 200, 697.415])\n",
    "print(table)"
   ]
  },
  {
   "cell_type": "markdown",
   "metadata": {
    "id": "K1ll4MU_C5_s"
   },
   "source": [
    "### Observations:\n",
    "The best custom model was LightGBM Regressor model on top of Random Forest Regressor having RMSE Score = 481.111 for k = 200,learning_rate = 0.1,max_depth=10,n_estimator = 1250"
   ]
  },
  {
   "cell_type": "markdown",
   "metadata": {
    "id": "PPUl14f0C6LH"
   },
   "source": [
    "## Prediction on Test Data with Best Custom Model"
   ]
  },
  {
   "cell_type": "code",
   "execution_count": 19,
   "metadata": {
    "id": "pu4_vUufC6Ox"
   },
   "outputs": [],
   "source": [
    "def custom_ensemble(X_train,y_train,X_test,k,size=5,split=29026):\n",
    "    '''\n",
    "    This function will do everything from dividing training data to two equal parts train_1 and train_2\n",
    "    and creating metadata for test data and to predict from the metamodels.\n",
    "    This function returns the predictions for X_test.\n",
    "    k = no of base models\n",
    "    '''\n",
    "    #splitting the X_train into 50:50\n",
    "    train_1 = X_train[:split]\n",
    "    train_2 = X_train[split:]\n",
    "    y_1 = y_train[:split]\n",
    "    y_2 = y_train[split:]\n",
    "    print('X_train type :',type(X_train))\n",
    "    print('X_train type :',type(X_test))\n",
    "    print('X_train type :',type(y_train))\n",
    "    print('X_train type :',type(y_test))\n",
    "    print('train_1 type :',type(train_1))\n",
    "    print('train_2 type :',type(train_2))\n",
    "    print('y_1 type :',type(y_1))\n",
    "    print('y_2 type :',type(y_2))\n",
    "    print('X_train shape :',X_train.shape)\n",
    "    print('X_test shape :',X_test.shape)\n",
    "    print('y_train shape :',y_train.shape)\n",
    "    print('train_1 shape :',train_1.shape)\n",
    "    print('train_2 shape :',train_2.shape)\n",
    "    print('y_1 shape :',y_1.shape)\n",
    "    print('y_2 shape :',y_2.shape)\n",
    "    #creating base models using train_1 and y_1\n",
    "    k_models = create_k_model(train_1,y_1,k,size);\n",
    "    #creating metadat using train_2 and base models obtained above\n",
    "    x_new_metadata = create_new_data(train_2,k_models);\n",
    "    #using the best custom model to fit the new meta data\n",
    "    lgbm_reg = lightgbm.LGBMRegressor(n_estimator = 1250,max_depth=10,learning_rate=0.1,n_jobs=-1);\n",
    "    lgbm_reg.fit(x_new_metadata,y_2);\n",
    "    #creating metadata  for test data\n",
    "    x_test_metadata = create_new_data(X_test,k_models);\n",
    "    #predicting the test metadata\n",
    "    lgbm_custom_prediction = lgbm_reg.predict(x_test_metadata);\n",
    "    return lgbm_custom_prediction"
   ]
  },
  {
   "cell_type": "code",
   "execution_count": 20,
   "metadata": {
    "colab": {
     "base_uri": "https://localhost:8080/"
    },
    "id": "TUEYkzViC6St",
    "outputId": "50992eac-d096-4849-8500-faf73701c681"
   },
   "outputs": [
    {
     "name": "stdout",
     "output_type": "stream",
     "text": [
      "X_train type : <class 'numpy.ndarray'>\n",
      "X_train type : <class 'numpy.ndarray'>\n",
      "X_train type : <class 'numpy.ndarray'>\n",
      "X_train type : <class 'numpy.ndarray'>\n",
      "train_1 type : <class 'numpy.ndarray'>\n",
      "train_2 type : <class 'numpy.ndarray'>\n",
      "y_1 type : <class 'numpy.ndarray'>\n",
      "y_2 type : <class 'numpy.ndarray'>\n",
      "X_train shape : (116106, 5)\n",
      "X_test shape : (29026, 5)\n",
      "y_train shape : (116106,)\n",
      "train_1 shape : (58053, 5)\n",
      "train_2 shape : (58053, 5)\n",
      "y_1 shape : (58053,)\n",
      "y_2 shape : (58053,)\n",
      "CPU times: user 12min 11s, sys: 1min 37s, total: 13min 49s\n",
      "Wall time: 10min 20s\n"
     ]
    }
   ],
   "source": [
    "%%time\n",
    "#%%capture\n",
    "lgbm_custom_prediction = custom_ensemble(X_train,y_train,X_test,k=200,size=5,split=58053);"
   ]
  },
  {
   "cell_type": "code",
   "execution_count": null,
   "metadata": {
    "colab": {
     "base_uri": "https://localhost:8080/",
     "height": 363
    },
    "id": "H6F1TSCvQcpU",
    "outputId": "55ccd98f-bea2-43d6-fe0b-a87f28618b5f"
   },
   "outputs": [
    {
     "name": "stdout",
     "output_type": "stream",
     "text": [
      "RSME : 465.8696091379984\n",
      "MAE : 335.35856636186884\n",
      "MAPE : 1.0842985944593606\n",
      "MSE : 217034.49271839138\n"
     ]
    },
    {
     "data": {
      "image/png": "[encoded data removed]",
      "text/plain": [
       "<Figure size 1656x360 with 1 Axes>"
      ]
     },
     "metadata": {
      "needs_background": "light"
     },
     "output_type": "display_data"
    }
   ],
   "source": [
    "rmse_lgbm1,mae_lgbm1,mape_lgbm1,mse_lgbm1 = performance_metrics(y_test,lgbm_custom_prediction)\n",
    "print('RSME :',rmse_lgbm1)\n",
    "print('MAE :',mae_lgbm1)\n",
    "print('MAPE :',mape_lgbm1)\n",
    "print('MSE :',mse_lgbm1)\n",
    "\n",
    "result_visualization(y_test[-100:],lgbm_custom_prediction[-100:],title='LightGBM Custom Stack Regressor Model')"
   ]
  },
  {
   "cell_type": "markdown",
   "metadata": {
    "id": "0kxpdU1EC6az"
   },
   "source": [
    "## Compairing results with Random Forest from Modelling Part-1 "
   ]
  },
  {
   "cell_type": "code",
   "execution_count": null,
   "metadata": {
    "colab": {
     "base_uri": "https://localhost:8080/"
    },
    "id": "OHe2AcxuC6e9",
    "outputId": "348fb447-c629-4338-80fc-bd53f5596d2d"
   },
   "outputs": [
    {
     "name": "stdout",
     "output_type": "stream",
     "text": [
      "+--------------------------------------------+---------+---------+-------+---------+\n",
      "|                   Model                    |   RMSE  |   MAE   |  MAPE |   MSE   |\n",
      "+--------------------------------------------+---------+---------+-------+---------+\n",
      "| RF + LightGBM Custom Stack Regressor Model | 465.869 | 335.358 |  1.08 |  217034 |\n",
      "|   Random Forest Model (Modelling Part-1)   | 274.871 | 198.227 | 0.539 | 75554.6 |\n",
      "+--------------------------------------------+---------+---------+-------+---------+\n"
     ]
    }
   ],
   "source": [
    "result = PrettyTable()\n",
    "result.field_names = [\"Model\",\"RMSE\",\"MAE\",\"MAPE\",\"MSE\"]\n",
    "result.add_row([\"RF + LightGBM Custom Stack Regressor Model\",465.869,335.358,1.08,217034])\n",
    "result.add_row([\"Random Forest Model (Modelling Part-1)\",274.871,198.227,0.539,75554.60])\n",
    "print(result)"
   ]
  },
  {
   "cell_type": "markdown",
   "metadata": {
    "id": "Ue74__u9C6is"
   },
   "source": [
    "## Observations/Results:\n",
    "From the above observation and results in can be seen that the stack model has performed much better that all some machine leraning models and deep learning models but not performed best as compare to Random Forest when used solely in Modelling part-1.<br>\n",
    "So finally we will choose data set obtained after feature engineering and will use Random Forest Model for future data prediction because of following reasons:\n",
    "1. RMSE is very low for Random Forest as compare to stack custom model\n",
    "2. In real life,when model is deployed it need to re-train time to time so that it should work properly and training time for Random Forest is much much less (few inutes) as comapred to custom stack model(few hours)."
   ]
  },
  {
   "cell_type": "code",
   "execution_count": null,
   "metadata": {
    "id": "Hqc5h5cs8I2W"
   },
   "outputs": [],
   "source": []
  }
 ],
 "metadata": {
  "colab": {
   "collapsed_sections": [],
   "name": "CustomStackingModel_CS1 Update.ipynb",
   "provenance": []
  },
  "kernelspec": {
   "display_name": "Python 3",
   "language": "python",
   "name": "python3"
  },
  "language_info": {
   "codemirror_mode": {
    "name": "ipython",
    "version": 3
   },
   "file_extension": ".py",
   "mimetype": "text/x-python",
   "name": "python",
   "nbconvert_exporter": "python",
   "pygments_lexer": "ipython3",
   "version": "3.8.8"
  }
 },
 "nbformat": 4,
 "nbformat_minor": 1
}
