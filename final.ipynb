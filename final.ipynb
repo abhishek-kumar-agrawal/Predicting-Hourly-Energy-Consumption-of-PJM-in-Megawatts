{
 "cells": [
  {
   "cell_type": "markdown",
   "id": "8b760f4e",
   "metadata": {},
   "source": [
    "<h1><center>  Hourly Energy Consumption PJM USA </center></h1>"
   ]
  },
  {
   "cell_type": "markdown",
   "id": "82687d2b",
   "metadata": {},
   "source": [
    "### Importing Libraries"
   ]
  },
  {
   "cell_type": "code",
   "execution_count": 1,
   "id": "2c5175c4",
   "metadata": {},
   "outputs": [],
   "source": [
    "import pandas as pd\n",
    "import seaborn as sns\n",
    "import matplotlib.pyplot as plt\n",
    "import numpy as np\n",
    "import random\n",
    "from tabulate import tabulate\n",
    "import warnings\n",
    "warnings.filterwarnings(\"ignore\")\n",
    "from sklearn.ensemble import RandomForestRegressor\n",
    "from sklearn.preprocessing import MinMaxScaler\n",
    "import matplotlib as mpl\n",
    "import matplotlib.pyplot as plt\n",
    "from sklearn.model_selection import TimeSeriesSplit\n",
    "from math import sqrt\n",
    "from sklearn.metrics import mean_squared_error,mean_absolute_error\n",
    "import sklearn.metrics as metrics\n",
    "from sklearn.ensemble import RandomForestRegressor\n",
    "from tqdm import tqdm\n",
    "from datetime import datetime\n",
    "from prettytable import PrettyTable\n",
    "import shutil,os\n",
    "import pickle\n",
    "import joblib"
   ]
  },
  {
   "cell_type": "markdown",
   "id": "a29ab7fa",
   "metadata": {},
   "source": [
    "### Final Pipeline"
   ]
  },
  {
   "cell_type": "code",
   "execution_count": 2,
   "id": "a84d5022",
   "metadata": {},
   "outputs": [],
   "source": [
    "def final_fun_1(X):\n",
    "    '''This function will take details about energy comsumption as input and returns a prediction\n",
    "    The input include : PJME_MW,lag_feature1,lag_feature2,hour_sin_feature,hour_cos_feature,rolling_day_mean'''\n",
    "    \n",
    "    #Loading best model\n",
    "    best_model = joblib.load(\"random_forest1.joblib\")\n",
    "    \n",
    "    #Predictions\n",
    "    y_pred = best_model.predict(X);\n",
    "    \n",
    "    #Creating dataframe which contains input and predictions\n",
    "    column = ['lag_feature1','hour_cos_feature','lag_feature2','hour_sin_feature','rolling_day_mean']\n",
    "    pjme = pd.DataFrame(X , columns = column)\n",
    "    pjme['Predicted'] = y_pred\n",
    "    \n",
    "    return pjme"
   ]
  },
  {
   "cell_type": "code",
   "execution_count": 3,
   "id": "85b1a06e",
   "metadata": {},
   "outputs": [],
   "source": [
    "def final_fun_2(X,Y):\n",
    "    '''This function evaperformanve by comparing model prediction with actual values'''\n",
    "    \n",
    "    final_prediction = final_fun_1(X)\n",
    "    y_pred = final_prediction['Predicted']\n",
    "    y_actual = np.expm1(np.array(Y))\n",
    "    y_predict = np.expm1(np.array(y_pred))\n",
    "    mape = np.mean(np.abs((y_actual-y_predict)/y_actual))*100\n",
    "    mae = mean_absolute_error(y_actual,y_predict)\n",
    "    mse = mean_squared_error(y_actual,y_predict)\n",
    "    rmse = sqrt(mean_squared_error(y_actual,y_predict))\n",
    "    \n",
    "    print(\"Root Mean Square Error: \",rmse)\n",
    "    print(\"Mean Absolute Error: \",mae)\n",
    "    print(\"Mean Absolute Percentage Error: \",mape,\" %\")\n",
    "    print(\"Mean Absolute Error: \",mse)"
   ]
  },
  {
   "cell_type": "code",
   "execution_count": 4,
   "id": "8eec6344",
   "metadata": {},
   "outputs": [],
   "source": [
    "pjme_df = pd.read_pickle('final_pjm_stationary.pkl')\n",
    "X = pjme_df[['lag_feature1','hour_cos_feature','lag_feature2','hour_sin_feature','rolling_day_mean']]\n",
    "Y = pjme_df['PJME_MW'].values"
   ]
  },
  {
   "cell_type": "code",
   "execution_count": 5,
   "id": "ac3f9b2c",
   "metadata": {},
   "outputs": [],
   "source": [
    "X = X[:1].values\n",
    "Y =Y[:1]"
   ]
  },
  {
   "cell_type": "code",
   "execution_count": 6,
   "id": "33b38be0",
   "metadata": {},
   "outputs": [
    {
     "name": "stdout",
     "output_type": "stream",
     "text": [
      "Wall time: 41.9 s\n"
     ]
    }
   ],
   "source": [
    "%%time\n",
    "%%capture\n",
    "\n",
    "# Examine final_fun_1\n",
    "result = final_fun_1(X);"
   ]
  },
  {
   "cell_type": "code",
   "execution_count": 7,
   "id": "121e95d5",
   "metadata": {},
   "outputs": [
    {
     "data": {
      "text/html": [
       "<div>\n",
       "<style scoped>\n",
       "    .dataframe tbody tr th:only-of-type {\n",
       "        vertical-align: middle;\n",
       "    }\n",
       "\n",
       "    .dataframe tbody tr th {\n",
       "        vertical-align: top;\n",
       "    }\n",
       "\n",
       "    .dataframe thead th {\n",
       "        text-align: right;\n",
       "    }\n",
       "</style>\n",
       "<table border=\"1\" class=\"dataframe\">\n",
       "  <thead>\n",
       "    <tr style=\"text-align: right;\">\n",
       "      <th></th>\n",
       "      <th>lag_feature1</th>\n",
       "      <th>hour_cos_feature</th>\n",
       "      <th>lag_feature2</th>\n",
       "      <th>hour_sin_feature</th>\n",
       "      <th>rolling_day_mean</th>\n",
       "      <th>Predicted</th>\n",
       "    </tr>\n",
       "  </thead>\n",
       "  <tbody>\n",
       "    <tr>\n",
       "      <th>0</th>\n",
       "      <td>0.468011</td>\n",
       "      <td>0.707107</td>\n",
       "      <td>0.486405</td>\n",
       "      <td>0.707107</td>\n",
       "      <td>0.556635</td>\n",
       "      <td>10.25472</td>\n",
       "    </tr>\n",
       "  </tbody>\n",
       "</table>\n",
       "</div>"
      ],
      "text/plain": [
       "   lag_feature1  hour_cos_feature  lag_feature2  hour_sin_feature  \\\n",
       "0      0.468011          0.707107      0.486405          0.707107   \n",
       "\n",
       "   rolling_day_mean  Predicted  \n",
       "0          0.556635   10.25472  "
      ]
     },
     "execution_count": 7,
     "metadata": {},
     "output_type": "execute_result"
    }
   ],
   "source": [
    "result"
   ]
  },
  {
   "cell_type": "code",
   "execution_count": 8,
   "id": "3e90255d",
   "metadata": {},
   "outputs": [
    {
     "name": "stderr",
     "output_type": "stream",
     "text": [
      "[Parallel(n_jobs=4)]: Using backend ThreadingBackend with 4 concurrent workers.\n",
      "[Parallel(n_jobs=4)]: Done  10 tasks      | elapsed:    0.0s\n",
      "[Parallel(n_jobs=4)]: Done  64 tasks      | elapsed:    0.0s\n",
      "[Parallel(n_jobs=4)]: Done 154 tasks      | elapsed:    0.1s\n",
      "[Parallel(n_jobs=4)]: Done 280 tasks      | elapsed:    0.1s\n",
      "[Parallel(n_jobs=4)]: Done 442 tasks      | elapsed:    0.1s\n",
      "[Parallel(n_jobs=4)]: Done 640 tasks      | elapsed:    0.2s\n",
      "[Parallel(n_jobs=4)]: Done 874 tasks      | elapsed:    0.2s\n",
      "[Parallel(n_jobs=4)]: Done 1144 tasks      | elapsed:    0.3s\n",
      "[Parallel(n_jobs=4)]: Done 1250 out of 1250 | elapsed:    0.3s finished\n"
     ]
    },
    {
     "name": "stdout",
     "output_type": "stream",
     "text": [
      "Root Mean Square Error:  40.35309505195619\n",
      "Mean Absolute Error:  40.35309505195619\n",
      "Mean Absolute Percentage Error:  0.1422135508438985  %\n",
      "Mean Absolute Error:  1628.3722802722111\n"
     ]
    }
   ],
   "source": [
    "# Examine final_fun_2\n",
    "final_fun_2(X,Y)"
   ]
  },
  {
   "cell_type": "markdown",
   "id": "6b7d9177",
   "metadata": {},
   "source": [
    "### Model Deployment"
   ]
  },
  {
   "cell_type": "code",
   "execution_count": null,
   "id": "e8f394c4",
   "metadata": {
    "scrolled": true
   },
   "outputs": [
    {
     "name": "stdout",
     "output_type": "stream",
     "text": [
      " * Serving Flask app \"__main__\" (lazy loading)\n",
      " * Environment: production\n",
      "   WARNING: This is a development server. Do not use it in a production deployment.\n",
      "   Use a production WSGI server instead.\n",
      " * Debug mode: off\n"
     ]
    },
    {
     "name": "stderr",
     "output_type": "stream",
     "text": [
      " * Running on http://127.0.0.1:5000/ (Press CTRL+C to quit)\n",
      "127.0.0.1 - - [03/Jan/2022 17:26:02] \"\u001b[37mGET / HTTP/1.1\u001b[0m\" 200 -\n",
      "127.0.0.1 - - [03/Jan/2022 17:26:02] \"\u001b[33mGET /style.css HTTP/1.1\u001b[0m\" 404 -\n",
      "[Parallel(n_jobs=4)]: Using backend ThreadingBackend with 4 concurrent workers.\n",
      "[Parallel(n_jobs=4)]: Done  10 tasks      | elapsed:    0.0s\n",
      "[Parallel(n_jobs=4)]: Done  64 tasks      | elapsed:    0.0s\n",
      "[Parallel(n_jobs=4)]: Done 154 tasks      | elapsed:    0.0s\n",
      "[Parallel(n_jobs=4)]: Done 280 tasks      | elapsed:    0.0s\n",
      "[Parallel(n_jobs=4)]: Done 442 tasks      | elapsed:    0.0s\n",
      "[Parallel(n_jobs=4)]: Done 640 tasks      | elapsed:    0.1s\n",
      "[Parallel(n_jobs=4)]: Done 874 tasks      | elapsed:    0.1s\n",
      "[Parallel(n_jobs=4)]: Done 1144 tasks      | elapsed:    0.2s\n",
      "[Parallel(n_jobs=4)]: Done 1250 out of 1250 | elapsed:    0.2s finished\n",
      "127.0.0.1 - - [03/Jan/2022 17:26:34] \"\u001b[37mPOST / HTTP/1.1\u001b[0m\" 200 -\n",
      "127.0.0.1 - - [03/Jan/2022 17:26:34] \"\u001b[33mGET /style.css HTTP/1.1\u001b[0m\" 404 -\n"
     ]
    },
    {
     "name": "stdout",
     "output_type": "stream",
     "text": [
      "28415.92\n"
     ]
    },
    {
     "name": "stderr",
     "output_type": "stream",
     "text": [
      "[Parallel(n_jobs=4)]: Using backend ThreadingBackend with 4 concurrent workers.\n",
      "[Parallel(n_jobs=4)]: Done  10 tasks      | elapsed:    0.0s\n",
      "[Parallel(n_jobs=4)]: Done  64 tasks      | elapsed:    0.0s\n",
      "[Parallel(n_jobs=4)]: Done 154 tasks      | elapsed:    0.0s\n",
      "[Parallel(n_jobs=4)]: Done 280 tasks      | elapsed:    0.0s\n",
      "[Parallel(n_jobs=4)]: Done 442 tasks      | elapsed:    0.0s\n",
      "[Parallel(n_jobs=4)]: Done 640 tasks      | elapsed:    0.1s\n",
      "[Parallel(n_jobs=4)]: Done 874 tasks      | elapsed:    0.1s\n",
      "[Parallel(n_jobs=4)]: Done 1144 tasks      | elapsed:    0.2s\n",
      "[Parallel(n_jobs=4)]: Done 1250 out of 1250 | elapsed:    0.2s finished\n",
      "127.0.0.1 - - [03/Jan/2022 17:27:20] \"\u001b[37mPOST / HTTP/1.1\u001b[0m\" 200 -\n",
      "127.0.0.1 - - [03/Jan/2022 17:27:20] \"\u001b[33mGET /style.css HTTP/1.1\u001b[0m\" 404 -\n"
     ]
    },
    {
     "name": "stdout",
     "output_type": "stream",
     "text": [
      "31292.29\n"
     ]
    }
   ],
   "source": [
    "import flask\n",
    "import pandas as pd\n",
    "from joblib import dump, load\n",
    "import numpy as np\n",
    "\n",
    "\n",
    "with open(f'random_forest1.joblib', 'rb') as f:\n",
    "    model = load(f)\n",
    "\n",
    "\n",
    "app = flask.Flask(__name__, template_folder='templates')\n",
    "\n",
    "\n",
    "@app.route('/', methods=['GET', 'POST'])\n",
    "def main():\n",
    "    if flask.request.method == 'GET':\n",
    "        return (flask.render_template('main.html'))\n",
    "\n",
    "    if flask.request.method == 'POST':\n",
    "        lag_feature1 = flask.request.form['lag_feature1']\n",
    "        hour_cos_feature = flask.request.form['hour_cos_feature']\n",
    "        lag_feature2 = flask.request.form['lag_feature2']\n",
    "        hour_sin_feature = flask.request.form['hour_sin_feature']\n",
    "        rolling_day_mean = flask.request.form['rolling_day_mean']\n",
    "        \n",
    "\n",
    "        inputs = pd.DataFrame([[lag_feature1, hour_cos_feature, lag_feature2, hour_sin_feature, rolling_day_mean]],\n",
    "                                       columns=['lag_feature1', 'hour_cos_feature', 'lag_feature2', 'hour_sin_feature', 'rolling_day_mean'],\n",
    "                                                \n",
    "                                       dtype='float',\n",
    "                                       index=['input'])\n",
    "\n",
    "        predictions = model.predict(inputs)[0]\n",
    "        predictions = np.round(np.expm1(predictions),2)\n",
    "        print(predictions)\n",
    "\n",
    "        return flask.render_template('main.html', original_input={'FirstLagFeature': lag_feature1, 'HourlyCosineFeature': hour_cos_feature, 'SecondLagFeature': lag_feature2, 'HourlySineFeature': hour_sin_feature, 'DayRollingFeature': rolling_day_mean},\n",
    "                                     result=predictions)\n",
    "\n",
    "\n",
    "if __name__ == '__main__':\n",
    "    app.run(host='127.0.0.1', port=5000)"
   ]
  },
  {
   "cell_type": "markdown",
   "id": "381e7cee",
   "metadata": {},
   "source": [
    "Model Deployment video [click here](https://youtu.be/HDebK1WxRmQ)"
   ]
  },
  {
   "cell_type": "code",
   "execution_count": null,
   "id": "cca96a5a",
   "metadata": {},
   "outputs": [],
   "source": []
  }
 ],
 "metadata": {
  "kernelspec": {
   "display_name": "Python 3",
   "language": "python",
   "name": "python3"
  },
  "language_info": {
   "codemirror_mode": {
    "name": "ipython",
    "version": 3
   },
   "file_extension": ".py",
   "mimetype": "text/x-python",
   "name": "python",
   "nbconvert_exporter": "python",
   "pygments_lexer": "ipython3",
   "version": "3.8.8"
  }
 },
 "nbformat": 4,
 "nbformat_minor": 5
}
